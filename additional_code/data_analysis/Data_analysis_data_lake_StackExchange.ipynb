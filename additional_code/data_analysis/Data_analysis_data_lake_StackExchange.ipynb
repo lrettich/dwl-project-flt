{
 "cells": [
  {
   "cell_type": "markdown",
   "id": "brief-growing",
   "metadata": {},
   "source": [
    "# Analysis of Stack Exchange data lake data \n",
    "This jupyter notebook aims to analyze the data lake data that was collected from Stack Exchange. \n",
    "The primary goal is to get an overview over the data and to detect possible data quality problems. "
   ]
  },
  {
   "cell_type": "markdown",
   "id": "described-isaac",
   "metadata": {},
   "source": [
    "## Overview over time"
   ]
  },
  {
   "cell_type": "code",
   "execution_count": 3,
   "id": "covered-simon",
   "metadata": {},
   "outputs": [
    {
     "data": {
      "text/html": [
       "<div>\n",
       "<style scoped>\n",
       "    .dataframe tbody tr th:only-of-type {\n",
       "        vertical-align: middle;\n",
       "    }\n",
       "\n",
       "    .dataframe tbody tr th {\n",
       "        vertical-align: top;\n",
       "    }\n",
       "\n",
       "    .dataframe thead th {\n",
       "        text-align: right;\n",
       "    }\n",
       "</style>\n",
       "<table border=\"1\" class=\"dataframe\">\n",
       "  <thead>\n",
       "    <tr style=\"text-align: right;\">\n",
       "      <th></th>\n",
       "      <th>date</th>\n",
       "      <th>questions</th>\n",
       "      <th>answers</th>\n",
       "    </tr>\n",
       "  </thead>\n",
       "  <tbody>\n",
       "    <tr>\n",
       "      <th>0</th>\n",
       "      <td>2022-04-14</td>\n",
       "      <td>3036</td>\n",
       "      <td>2870</td>\n",
       "    </tr>\n",
       "    <tr>\n",
       "      <th>1</th>\n",
       "      <td>2022-04-15</td>\n",
       "      <td>2590</td>\n",
       "      <td>2470</td>\n",
       "    </tr>\n",
       "    <tr>\n",
       "      <th>2</th>\n",
       "      <td>2022-04-16</td>\n",
       "      <td>1899</td>\n",
       "      <td>1803</td>\n",
       "    </tr>\n",
       "    <tr>\n",
       "      <th>3</th>\n",
       "      <td>2022-04-17</td>\n",
       "      <td>1926</td>\n",
       "      <td>1735</td>\n",
       "    </tr>\n",
       "    <tr>\n",
       "      <th>4</th>\n",
       "      <td>2022-04-18</td>\n",
       "      <td>2744</td>\n",
       "      <td>2513</td>\n",
       "    </tr>\n",
       "    <tr>\n",
       "      <th>5</th>\n",
       "      <td>2022-04-19</td>\n",
       "      <td>3229</td>\n",
       "      <td>2980</td>\n",
       "    </tr>\n",
       "    <tr>\n",
       "      <th>6</th>\n",
       "      <td>2022-04-20</td>\n",
       "      <td>3379</td>\n",
       "      <td>3215</td>\n",
       "    </tr>\n",
       "  </tbody>\n",
       "</table>\n",
       "</div>"
      ],
      "text/plain": [
       "         date  questions  answers\n",
       "0  2022-04-14       3036     2870\n",
       "1  2022-04-15       2590     2470\n",
       "2  2022-04-16       1899     1803\n",
       "3  2022-04-17       1926     1735\n",
       "4  2022-04-18       2744     2513\n",
       "5  2022-04-19       3229     2980\n",
       "6  2022-04-20       3379     3215"
      ]
     },
     "execution_count": 3,
     "metadata": {},
     "output_type": "execute_result"
    }
   ],
   "source": [
    "import pandas as pd\n",
    "import os\n",
    "import sqlalchemy\n",
    "\n",
    "conn_string = f\"postgresql://{os.getenv('SE_USER')}:{os.getenv('SE_PASSWORD')}@{os.getenv('SE_ENDPOINT')}/{os.getenv('SE_DATABASENAME')}\"\n",
    "sqlalchemy_connection_se = sqlalchemy.create_engine(conn_string)\n",
    "\n",
    "questions = pd.read_sql(\"\"\"SELECT TO_TIMESTAMP(creation_date)::DATE date, COUNT(*) questions FROM questions\n",
    "                           WHERE creation_date > 1649894400 -- from 14. April 2022 00:00:00\n",
    "                           GROUP BY TO_TIMESTAMP(creation_date)::DATE\n",
    "                           ORDER BY TO_TIMESTAMP(creation_date)::DATE;\"\"\", sqlalchemy_connection_se)\n",
    "answers = pd.read_sql(\"\"\"SELECT TO_TIMESTAMP(creation_date)::DATE date, COUNT(*) answers FROM answers\n",
    "                         WHERE creation_date > 1649894400 -- from 14. April 2022 00:00:00\n",
    "                         GROUP BY TO_TIMESTAMP(creation_date)::DATE\n",
    "                         ORDER BY TO_TIMESTAMP(creation_date)::DATE;\"\"\", sqlalchemy_connection_se)\n",
    "\n",
    "time_overview = pd.merge(questions, answers, on='date')\n",
    "time_overview"
   ]
  },
  {
   "cell_type": "code",
   "execution_count": 7,
   "id": "congressional-citizen",
   "metadata": {},
   "outputs": [
    {
     "data": {
      "text/plain": [
       "<AxesSubplot:xlabel='date'>"
      ]
     },
     "execution_count": 7,
     "metadata": {},
     "output_type": "execute_result"
    },
    {
     "data": {
      "image/png": "[encoded data removed]",
      "text/plain": [
       "<Figure size 432x288 with 1 Axes>"
      ]
     },
     "metadata": {
      "needs_background": "light"
     },
     "output_type": "display_data"
    }
   ],
   "source": [
    "time_overview.plot(x='date', xticks=time_overview.date, ylim=(0, None), rot=90)"
   ]
  },
  {
   "cell_type": "markdown",
   "id": "rocky-development",
   "metadata": {},
   "source": [
    "## Overview of technologies"
   ]
  },
  {
   "cell_type": "code",
   "execution_count": 5,
   "id": "recreational-sweet",
   "metadata": {},
   "outputs": [
    {
     "data": {
      "text/html": [
       "<div>\n",
       "<style scoped>\n",
       "    .dataframe tbody tr th:only-of-type {\n",
       "        vertical-align: middle;\n",
       "    }\n",
       "\n",
       "    .dataframe tbody tr th {\n",
       "        vertical-align: top;\n",
       "    }\n",
       "\n",
       "    .dataframe thead th {\n",
       "        text-align: right;\n",
       "    }\n",
       "</style>\n",
       "<table border=\"1\" class=\"dataframe\">\n",
       "  <thead>\n",
       "    <tr style=\"text-align: right;\">\n",
       "      <th></th>\n",
       "      <th>technology</th>\n",
       "      <th>questions</th>\n",
       "      <th>answers</th>\n",
       "    </tr>\n",
       "  </thead>\n",
       "  <tbody>\n",
       "    <tr>\n",
       "      <th>0</th>\n",
       "      <td>java</td>\n",
       "      <td>8618</td>\n",
       "      <td>6352</td>\n",
       "    </tr>\n",
       "    <tr>\n",
       "      <th>0</th>\n",
       "      <td>javascript</td>\n",
       "      <td>5676</td>\n",
       "      <td>4409</td>\n",
       "    </tr>\n",
       "    <tr>\n",
       "      <th>0</th>\n",
       "      <td>cloud</td>\n",
       "      <td>653</td>\n",
       "      <td>599</td>\n",
       "    </tr>\n",
       "    <tr>\n",
       "      <th>0</th>\n",
       "      <td>docker</td>\n",
       "      <td>674</td>\n",
       "      <td>392</td>\n",
       "    </tr>\n",
       "    <tr>\n",
       "      <th>0</th>\n",
       "      <td>azure</td>\n",
       "      <td>674</td>\n",
       "      <td>554</td>\n",
       "    </tr>\n",
       "    <tr>\n",
       "      <th>0</th>\n",
       "      <td>python</td>\n",
       "      <td>8253</td>\n",
       "      <td>6383</td>\n",
       "    </tr>\n",
       "    <tr>\n",
       "      <th>0</th>\n",
       "      <td>react</td>\n",
       "      <td>3250</td>\n",
       "      <td>2522</td>\n",
       "    </tr>\n",
       "    <tr>\n",
       "      <th>0</th>\n",
       "      <td>typescript</td>\n",
       "      <td>1010</td>\n",
       "      <td>747</td>\n",
       "    </tr>\n",
       "    <tr>\n",
       "      <th>0</th>\n",
       "      <td>angular</td>\n",
       "      <td>837</td>\n",
       "      <td>619</td>\n",
       "    </tr>\n",
       "    <tr>\n",
       "      <th>0</th>\n",
       "      <td>c#</td>\n",
       "      <td>2182</td>\n",
       "      <td>1547</td>\n",
       "    </tr>\n",
       "    <tr>\n",
       "      <th>0</th>\n",
       "      <td>kubernetes</td>\n",
       "      <td>159</td>\n",
       "      <td>86</td>\n",
       "    </tr>\n",
       "  </tbody>\n",
       "</table>\n",
       "</div>"
      ],
      "text/plain": [
       "   technology questions answers\n",
       "0        java      8618    6352\n",
       "0  javascript      5676    4409\n",
       "0       cloud       653     599\n",
       "0      docker       674     392\n",
       "0       azure       674     554\n",
       "0      python      8253    6383\n",
       "0       react      3250    2522\n",
       "0  typescript      1010     747\n",
       "0     angular       837     619\n",
       "0          c#      2182    1547\n",
       "0  kubernetes       159      86"
      ]
     },
     "execution_count": 5,
     "metadata": {},
     "output_type": "execute_result"
    }
   ],
   "source": [
    "conn_string = f\"postgresql://{os.getenv('DJ_USER')}:{os.getenv('DJ_PASSWORD')}@{os.getenv('DJ_ENDPOINT')}/{os.getenv('DJ_DATABASENAME')}\"\n",
    "sqlalchemy_connection_dj = sqlalchemy.create_engine(conn_string)\n",
    "\n",
    "share_overview = pd.DataFrame(columns=('technology', 'questions', 'answers'))\n",
    "technologies = sqlalchemy_connection_dj.execute(\"SELECT technology FROM top_technologies;\")\n",
    "for technology in technologies: \n",
    "    tech_tag = technology[0].lower()\n",
    "    q_result = pd.read_sql(f\"SELECT COUNT(*) FROM questions WHERE tags LIKE '%%{tech_tag}%%';\", sqlalchemy_connection_se)\n",
    "    a_result = pd.read_sql(f\"\"\"SELECT COUNT(*) FROM answers a\n",
    "                               INNER JOIN questions q ON a.question_id = q.question_id\n",
    "                               WHERE q.tags LIKE '%%{tech_tag}%%';\"\"\", sqlalchemy_connection_se)\n",
    "    share_overview = share_overview.append(pd.DataFrame({'technology': [tech_tag],\n",
    "                                                         'questions': [q_result.iloc[0, 0]],\n",
    "                                                         'answers': [a_result.iloc[0, 0]]}))\n",
    "share_overview"
   ]
  },
  {
   "cell_type": "code",
   "execution_count": 6,
   "id": "sharing-development",
   "metadata": {},
   "outputs": [
    {
     "data": {
      "text/plain": [
       "<AxesSubplot:xlabel='technology'>"
      ]
     },
     "execution_count": 6,
     "metadata": {},
     "output_type": "execute_result"
    },
    {
     "data": {
      "image/png": "[encoded data removed]",
      "text/plain": [
       "<Figure size 432x288 with 1 Axes>"
      ]
     },
     "metadata": {
      "needs_background": "light"
     },
     "output_type": "display_data"
    }
   ],
   "source": [
    "share_overview.plot.bar(x='technology')"
   ]
  }
 ],
 "metadata": {
  "kernelspec": {
   "display_name": "Python 3",
   "language": "python",
   "name": "python3"
  },
  "language_info": {
   "codemirror_mode": {
    "name": "ipython",
    "version": 3
   },
   "file_extension": ".py",
   "mimetype": "text/x-python",
   "name": "python",
   "nbconvert_exporter": "python",
   "pygments_lexer": "ipython3",
   "version": "3.9.2"
  }
 },
 "nbformat": 4,
 "nbformat_minor": 5
}
