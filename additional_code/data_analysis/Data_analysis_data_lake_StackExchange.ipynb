{
 "cells": [
  {
   "cell_type": "markdown",
   "id": "brief-growing",
   "metadata": {},
   "source": [
    "# Analysis of Stack Exchange data lake data \n",
    "This jupyter notebook aims to analyze the data lake data that was collected from Stack Exchange. \n",
    "The primary goal is to get an overview over the data and to detect possible data quality problems. "
   ]
  },
  {
   "cell_type": "markdown",
   "id": "described-isaac",
   "metadata": {},
   "source": [
    "## Overview over time"
   ]
  },
  {
   "cell_type": "code",
   "execution_count": 70,
   "id": "covered-simon",
   "metadata": {},
   "outputs": [
    {
     "data": {
      "text/html": [
       "<div>\n",
       "<style scoped>\n",
       "    .dataframe tbody tr th:only-of-type {\n",
       "        vertical-align: middle;\n",
       "    }\n",
       "\n",
       "    .dataframe tbody tr th {\n",
       "        vertical-align: top;\n",
       "    }\n",
       "\n",
       "    .dataframe thead th {\n",
       "        text-align: right;\n",
       "    }\n",
       "</style>\n",
       "<table border=\"1\" class=\"dataframe\">\n",
       "  <thead>\n",
       "    <tr style=\"text-align: right;\">\n",
       "      <th></th>\n",
       "      <th>date</th>\n",
       "      <th>questions</th>\n",
       "      <th>answers</th>\n",
       "    </tr>\n",
       "  </thead>\n",
       "  <tbody>\n",
       "    <tr>\n",
       "      <th>0</th>\n",
       "      <td>2022-04-14</td>\n",
       "      <td>3029</td>\n",
       "      <td>2870</td>\n",
       "    </tr>\n",
       "    <tr>\n",
       "      <th>1</th>\n",
       "      <td>2022-04-15</td>\n",
       "      <td>2584</td>\n",
       "      <td>2470</td>\n",
       "    </tr>\n",
       "    <tr>\n",
       "      <th>2</th>\n",
       "      <td>2022-04-16</td>\n",
       "      <td>1889</td>\n",
       "      <td>1803</td>\n",
       "    </tr>\n",
       "    <tr>\n",
       "      <th>3</th>\n",
       "      <td>2022-04-17</td>\n",
       "      <td>1913</td>\n",
       "      <td>1735</td>\n",
       "    </tr>\n",
       "    <tr>\n",
       "      <th>4</th>\n",
       "      <td>2022-04-18</td>\n",
       "      <td>2712</td>\n",
       "      <td>2513</td>\n",
       "    </tr>\n",
       "  </tbody>\n",
       "</table>\n",
       "</div>"
      ],
      "text/plain": [
       "         date  questions  answers\n",
       "0  2022-04-14       3029     2870\n",
       "1  2022-04-15       2584     2470\n",
       "2  2022-04-16       1889     1803\n",
       "3  2022-04-17       1913     1735\n",
       "4  2022-04-18       2712     2513"
      ]
     },
     "execution_count": 70,
     "metadata": {},
     "output_type": "execute_result"
    }
   ],
   "source": [
    "import pandas as pd\n",
    "import os\n",
    "import sqlalchemy\n",
    "\n",
    "conn_string = f\"postgresql://{os.getenv('SE_USER')}:{os.getenv('SE_PASSWORD')}@{os.getenv('SE_ENDPOINT')}/{os.getenv('SE_DATABASENAME')}\"\n",
    "sqlalchemy_connection_se = sqlalchemy.create_engine(conn_string)\n",
    "\n",
    "questions = pd.read_sql(\"\"\"SELECT TO_TIMESTAMP(creation_date)::DATE date, COUNT(*) questions FROM questions\n",
    "                           WHERE creation_date > 1649894400 -- from 14. April 2022 00:00:00\n",
    "                           GROUP BY TO_TIMESTAMP(creation_date)::DATE\n",
    "                           ORDER BY TO_TIMESTAMP(creation_date)::DATE;\"\"\", sqlalchemy_connection)\n",
    "answers = pd.read_sql(\"\"\"SELECT TO_TIMESTAMP(creation_date)::DATE date, COUNT(*) answers FROM answers\n",
    "                         WHERE creation_date > 1649894400 -- from 14. April 2022 00:00:00\n",
    "                         GROUP BY TO_TIMESTAMP(creation_date)::DATE\n",
    "                         ORDER BY TO_TIMESTAMP(creation_date)::DATE;\"\"\", sqlalchemy_connection)\n",
    "\n",
    "time_overview = pd.merge(questions, answers, on='date')\n",
    "time_overview"
   ]
  },
  {
   "cell_type": "code",
   "execution_count": 41,
   "id": "congressional-citizen",
   "metadata": {},
   "outputs": [
    {
     "data": {
      "text/plain": [
       "<AxesSubplot:xlabel='date'>"
      ]
     },
     "execution_count": 41,
     "metadata": {},
     "output_type": "execute_result"
    },
    {
     "data": {
      "image/png": "[encoded data removed]",
      "text/plain": [
       "<Figure size 432x288 with 1 Axes>"
      ]
     },
     "metadata": {
      "needs_background": "light"
     },
     "output_type": "display_data"
    }
   ],
   "source": [
    "time_overview.plot(x='date', xticks=overview.date, ylim=(0, None))"
   ]
  },
  {
   "cell_type": "markdown",
   "id": "rocky-development",
   "metadata": {},
   "source": [
    "## Overview of technologies"
   ]
  },
  {
   "cell_type": "code",
   "execution_count": 93,
   "id": "recreational-sweet",
   "metadata": {},
   "outputs": [
    {
     "data": {
      "text/html": [
       "<div>\n",
       "<style scoped>\n",
       "    .dataframe tbody tr th:only-of-type {\n",
       "        vertical-align: middle;\n",
       "    }\n",
       "\n",
       "    .dataframe tbody tr th {\n",
       "        vertical-align: top;\n",
       "    }\n",
       "\n",
       "    .dataframe thead th {\n",
       "        text-align: right;\n",
       "    }\n",
       "</style>\n",
       "<table border=\"1\" class=\"dataframe\">\n",
       "  <thead>\n",
       "    <tr style=\"text-align: right;\">\n",
       "      <th></th>\n",
       "      <th>technology</th>\n",
       "      <th>questions</th>\n",
       "      <th>answers</th>\n",
       "    </tr>\n",
       "  </thead>\n",
       "  <tbody>\n",
       "    <tr>\n",
       "      <th>0</th>\n",
       "      <td>java</td>\n",
       "      <td>5658</td>\n",
       "      <td>4171</td>\n",
       "    </tr>\n",
       "    <tr>\n",
       "      <th>0</th>\n",
       "      <td>javascript</td>\n",
       "      <td>3712</td>\n",
       "      <td>2908</td>\n",
       "    </tr>\n",
       "    <tr>\n",
       "      <th>0</th>\n",
       "      <td>cloud</td>\n",
       "      <td>420</td>\n",
       "      <td>371</td>\n",
       "    </tr>\n",
       "    <tr>\n",
       "      <th>0</th>\n",
       "      <td>docker</td>\n",
       "      <td>438</td>\n",
       "      <td>246</td>\n",
       "    </tr>\n",
       "    <tr>\n",
       "      <th>0</th>\n",
       "      <td>azure</td>\n",
       "      <td>375</td>\n",
       "      <td>288</td>\n",
       "    </tr>\n",
       "    <tr>\n",
       "      <th>0</th>\n",
       "      <td>python</td>\n",
       "      <td>5464</td>\n",
       "      <td>4235</td>\n",
       "    </tr>\n",
       "    <tr>\n",
       "      <th>0</th>\n",
       "      <td>react</td>\n",
       "      <td>2145</td>\n",
       "      <td>1666</td>\n",
       "    </tr>\n",
       "    <tr>\n",
       "      <th>0</th>\n",
       "      <td>typescript</td>\n",
       "      <td>627</td>\n",
       "      <td>465</td>\n",
       "    </tr>\n",
       "    <tr>\n",
       "      <th>0</th>\n",
       "      <td>angular</td>\n",
       "      <td>526</td>\n",
       "      <td>371</td>\n",
       "    </tr>\n",
       "    <tr>\n",
       "      <th>0</th>\n",
       "      <td>c#</td>\n",
       "      <td>1392</td>\n",
       "      <td>959</td>\n",
       "    </tr>\n",
       "  </tbody>\n",
       "</table>\n",
       "</div>"
      ],
      "text/plain": [
       "   technology questions answers\n",
       "0        java      5658    4171\n",
       "0  javascript      3712    2908\n",
       "0       cloud       420     371\n",
       "0      docker       438     246\n",
       "0       azure       375     288\n",
       "0      python      5464    4235\n",
       "0       react      2145    1666\n",
       "0  typescript       627     465\n",
       "0     angular       526     371\n",
       "0          c#      1392     959"
      ]
     },
     "execution_count": 93,
     "metadata": {},
     "output_type": "execute_result"
    }
   ],
   "source": [
    "conn_string = f\"postgresql://{os.getenv('DJ_USER')}:{os.getenv('DJ_PASSWORD')}@{os.getenv('DJ_ENDPOINT')}/{os.getenv('DJ_DATABASENAME')}\"\n",
    "sqlalchemy_connection_dj = sqlalchemy.create_engine(conn_string)\n",
    "\n",
    "share_overview = pd.DataFrame(columns=('technology', 'questions', 'answers'))\n",
    "technologies = sqlalchemy_connection_dj.execute(\"SELECT technology FROM top_technologies;\")\n",
    "for technology in technologies: \n",
    "    tech_tag = technology[0].lower()\n",
    "    q_result = pd.read_sql(f\"SELECT COUNT(*) FROM questions WHERE tags LIKE '%%{tech_tag}%%';\", sqlalchemy_connection_se)\n",
    "    a_result = pd.read_sql(f\"\"\"SELECT COUNT(*) FROM answers a\n",
    "                               INNER JOIN questions q ON a.question_id = q.question_id\n",
    "                               WHERE q.tags LIKE '%%{tech_tag}%%';\"\"\", sqlalchemy_connection_se)\n",
    "    share_overview = share_overview.append(pd.DataFrame({'technology': [tech_tag],\n",
    "                                                         'questions': [q_result.iloc[0, 0]],\n",
    "                                                         'answers': [a_result.iloc[0, 0]]}))\n",
    "share_overview"
   ]
  },
  {
   "cell_type": "code",
   "execution_count": 95,
   "id": "sharing-development",
   "metadata": {},
   "outputs": [
    {
     "data": {
      "text/plain": [
       "<AxesSubplot:xlabel='technology'>"
      ]
     },
     "execution_count": 95,
     "metadata": {},
     "output_type": "execute_result"
    },
    {
     "data": {
      "image/png": "[encoded data removed]",
      "text/plain": [
       "<Figure size 432x288 with 1 Axes>"
      ]
     },
     "metadata": {
      "needs_background": "light"
     },
     "output_type": "display_data"
    }
   ],
   "source": [
    "share_overview.plot.bar(x='technology')"
   ]
  }
 ],
 "metadata": {
  "kernelspec": {
   "display_name": "Python 3",
   "language": "python",
   "name": "python3"
  },
  "language_info": {
   "codemirror_mode": {
    "name": "ipython",
    "version": 3
   },
   "file_extension": ".py",
   "mimetype": "text/x-python",
   "name": "python",
   "nbconvert_exporter": "python",
   "pygments_lexer": "ipython3",
   "version": "3.9.2"
  }
 },
 "nbformat": 4,
 "nbformat_minor": 5
}
