{
 "cells": [
  {
   "cell_type": "markdown",
   "id": "brief-growing",
   "metadata": {},
   "source": [
    "# Analysis of Stack Exchange data lake data \n",
    "This jupyter notebook aims to analyze the data lake data that was collected from Stack Exchange. \n",
    "The primary goal is to get an overview over the data and to detect possible data quality problems. "
   ]
  },
  {
   "cell_type": "markdown",
   "id": "described-isaac",
   "metadata": {},
   "source": [
    "## Overview over time"
   ]
  },
  {
   "cell_type": "code",
   "execution_count": 2,
   "id": "covered-simon",
   "metadata": {},
   "outputs": [
    {
     "data": {
      "text/html": [
       "<div>\n",
       "<style scoped>\n",
       "    .dataframe tbody tr th:only-of-type {\n",
       "        vertical-align: middle;\n",
       "    }\n",
       "\n",
       "    .dataframe tbody tr th {\n",
       "        vertical-align: top;\n",
       "    }\n",
       "\n",
       "    .dataframe thead th {\n",
       "        text-align: right;\n",
       "    }\n",
       "</style>\n",
       "<table border=\"1\" class=\"dataframe\">\n",
       "  <thead>\n",
       "    <tr style=\"text-align: right;\">\n",
       "      <th></th>\n",
       "      <th>date</th>\n",
       "      <th>questions</th>\n",
       "      <th>answers</th>\n",
       "    </tr>\n",
       "  </thead>\n",
       "  <tbody>\n",
       "    <tr>\n",
       "      <th>0</th>\n",
       "      <td>2022-04-14</td>\n",
       "      <td>3040</td>\n",
       "      <td>2870</td>\n",
       "    </tr>\n",
       "    <tr>\n",
       "      <th>1</th>\n",
       "      <td>2022-04-15</td>\n",
       "      <td>2596</td>\n",
       "      <td>2470</td>\n",
       "    </tr>\n",
       "    <tr>\n",
       "      <th>2</th>\n",
       "      <td>2022-04-16</td>\n",
       "      <td>1902</td>\n",
       "      <td>1803</td>\n",
       "    </tr>\n",
       "    <tr>\n",
       "      <th>3</th>\n",
       "      <td>2022-04-17</td>\n",
       "      <td>1930</td>\n",
       "      <td>1735</td>\n",
       "    </tr>\n",
       "    <tr>\n",
       "      <th>4</th>\n",
       "      <td>2022-04-18</td>\n",
       "      <td>2758</td>\n",
       "      <td>2513</td>\n",
       "    </tr>\n",
       "    <tr>\n",
       "      <th>5</th>\n",
       "      <td>2022-04-19</td>\n",
       "      <td>3253</td>\n",
       "      <td>2980</td>\n",
       "    </tr>\n",
       "    <tr>\n",
       "      <th>6</th>\n",
       "      <td>2022-04-20</td>\n",
       "      <td>3434</td>\n",
       "      <td>3215</td>\n",
       "    </tr>\n",
       "    <tr>\n",
       "      <th>7</th>\n",
       "      <td>2022-04-21</td>\n",
       "      <td>3324</td>\n",
       "      <td>3117</td>\n",
       "    </tr>\n",
       "    <tr>\n",
       "      <th>8</th>\n",
       "      <td>2022-04-22</td>\n",
       "      <td>3082</td>\n",
       "      <td>2998</td>\n",
       "    </tr>\n",
       "    <tr>\n",
       "      <th>9</th>\n",
       "      <td>2022-04-23</td>\n",
       "      <td>2007</td>\n",
       "      <td>1950</td>\n",
       "    </tr>\n",
       "    <tr>\n",
       "      <th>10</th>\n",
       "      <td>2022-04-24</td>\n",
       "      <td>2022</td>\n",
       "      <td>1988</td>\n",
       "    </tr>\n",
       "    <tr>\n",
       "      <th>11</th>\n",
       "      <td>2022-04-25</td>\n",
       "      <td>3193</td>\n",
       "      <td>2872</td>\n",
       "    </tr>\n",
       "    <tr>\n",
       "      <th>12</th>\n",
       "      <td>2022-04-26</td>\n",
       "      <td>3431</td>\n",
       "      <td>3161</td>\n",
       "    </tr>\n",
       "    <tr>\n",
       "      <th>13</th>\n",
       "      <td>2022-04-27</td>\n",
       "      <td>3293</td>\n",
       "      <td>3208</td>\n",
       "    </tr>\n",
       "  </tbody>\n",
       "</table>\n",
       "</div>"
      ],
      "text/plain": [
       "          date  questions  answers\n",
       "0   2022-04-14       3040     2870\n",
       "1   2022-04-15       2596     2470\n",
       "2   2022-04-16       1902     1803\n",
       "3   2022-04-17       1930     1735\n",
       "4   2022-04-18       2758     2513\n",
       "5   2022-04-19       3253     2980\n",
       "6   2022-04-20       3434     3215\n",
       "7   2022-04-21       3324     3117\n",
       "8   2022-04-22       3082     2998\n",
       "9   2022-04-23       2007     1950\n",
       "10  2022-04-24       2022     1988\n",
       "11  2022-04-25       3193     2872\n",
       "12  2022-04-26       3431     3161\n",
       "13  2022-04-27       3293     3208"
      ]
     },
     "execution_count": 2,
     "metadata": {},
     "output_type": "execute_result"
    }
   ],
   "source": [
    "import pandas as pd\n",
    "import os\n",
    "import sqlalchemy\n",
    "\n",
    "conn_string = f\"postgresql://{os.getenv('SE_USER')}:{os.getenv('SE_PASSWORD')}@{os.getenv('SE_ENDPOINT')}/{os.getenv('SE_DATABASENAME')}\"\n",
    "sqlalchemy_connection_se = sqlalchemy.create_engine(conn_string)\n",
    "\n",
    "questions = pd.read_sql(\"\"\"SELECT TO_TIMESTAMP(creation_date)::DATE date, COUNT(*) questions FROM questions\n",
    "                           WHERE creation_date > 1649894400 -- from 14. April 2022 00:00:00\n",
    "                           GROUP BY TO_TIMESTAMP(creation_date)::DATE\n",
    "                           ORDER BY TO_TIMESTAMP(creation_date)::DATE;\"\"\", sqlalchemy_connection_se)\n",
    "answers = pd.read_sql(\"\"\"SELECT TO_TIMESTAMP(creation_date)::DATE date, COUNT(*) answers FROM answers\n",
    "                         WHERE creation_date > 1649894400 -- from 14. April 2022 00:00:00\n",
    "                         GROUP BY TO_TIMESTAMP(creation_date)::DATE\n",
    "                         ORDER BY TO_TIMESTAMP(creation_date)::DATE;\"\"\", sqlalchemy_connection_se)\n",
    "\n",
    "time_overview = pd.merge(questions, answers, on='date')\n",
    "time_overview"
   ]
  },
  {
   "cell_type": "code",
   "execution_count": 3,
   "id": "congressional-citizen",
   "metadata": {},
   "outputs": [
    {
     "data": {
      "text/plain": [
       "<AxesSubplot:xlabel='date'>"
      ]
     },
     "execution_count": 3,
     "metadata": {},
     "output_type": "execute_result"
    },
    {
     "data": {
      "image/png": "[encoded data removed]",
      "text/plain": [
       "<Figure size 432x288 with 1 Axes>"
      ]
     },
     "metadata": {
      "needs_background": "light"
     },
     "output_type": "display_data"
    }
   ],
   "source": [
    "time_overview.plot(x='date', xticks=time_overview.date, ylim=(0, None), rot=90)"
   ]
  },
  {
   "cell_type": "markdown",
   "id": "rocky-development",
   "metadata": {},
   "source": [
    "## Overview of technologies"
   ]
  },
  {
   "cell_type": "code",
   "execution_count": 4,
   "id": "recreational-sweet",
   "metadata": {},
   "outputs": [
    {
     "data": {
      "text/html": [
       "<div>\n",
       "<style scoped>\n",
       "    .dataframe tbody tr th:only-of-type {\n",
       "        vertical-align: middle;\n",
       "    }\n",
       "\n",
       "    .dataframe tbody tr th {\n",
       "        vertical-align: top;\n",
       "    }\n",
       "\n",
       "    .dataframe thead th {\n",
       "        text-align: right;\n",
       "    }\n",
       "</style>\n",
       "<table border=\"1\" class=\"dataframe\">\n",
       "  <thead>\n",
       "    <tr style=\"text-align: right;\">\n",
       "      <th></th>\n",
       "      <th>technology</th>\n",
       "      <th>questions</th>\n",
       "      <th>answers</th>\n",
       "    </tr>\n",
       "  </thead>\n",
       "  <tbody>\n",
       "    <tr>\n",
       "      <th>0</th>\n",
       "      <td>java</td>\n",
       "      <td>17553</td>\n",
       "      <td>13327</td>\n",
       "    </tr>\n",
       "    <tr>\n",
       "      <th>0</th>\n",
       "      <td>javascript</td>\n",
       "      <td>11375</td>\n",
       "      <td>9130</td>\n",
       "    </tr>\n",
       "    <tr>\n",
       "      <th>0</th>\n",
       "      <td>cloud</td>\n",
       "      <td>1330</td>\n",
       "      <td>1203</td>\n",
       "    </tr>\n",
       "    <tr>\n",
       "      <th>0</th>\n",
       "      <td>docker</td>\n",
       "      <td>1372</td>\n",
       "      <td>875</td>\n",
       "    </tr>\n",
       "    <tr>\n",
       "      <th>0</th>\n",
       "      <td>azure</td>\n",
       "      <td>1416</td>\n",
       "      <td>1262</td>\n",
       "    </tr>\n",
       "    <tr>\n",
       "      <th>0</th>\n",
       "      <td>python</td>\n",
       "      <td>16998</td>\n",
       "      <td>13332</td>\n",
       "    </tr>\n",
       "    <tr>\n",
       "      <th>0</th>\n",
       "      <td>react</td>\n",
       "      <td>6548</td>\n",
       "      <td>5086</td>\n",
       "    </tr>\n",
       "    <tr>\n",
       "      <th>0</th>\n",
       "      <td>typescript</td>\n",
       "      <td>2130</td>\n",
       "      <td>1630</td>\n",
       "    </tr>\n",
       "    <tr>\n",
       "      <th>0</th>\n",
       "      <td>angular</td>\n",
       "      <td>1805</td>\n",
       "      <td>1324</td>\n",
       "    </tr>\n",
       "    <tr>\n",
       "      <th>0</th>\n",
       "      <td>c#</td>\n",
       "      <td>4348</td>\n",
       "      <td>3164</td>\n",
       "    </tr>\n",
       "    <tr>\n",
       "      <th>0</th>\n",
       "      <td>kubernetes</td>\n",
       "      <td>471</td>\n",
       "      <td>271</td>\n",
       "    </tr>\n",
       "  </tbody>\n",
       "</table>\n",
       "</div>"
      ],
      "text/plain": [
       "   technology questions answers\n",
       "0        java     17553   13327\n",
       "0  javascript     11375    9130\n",
       "0       cloud      1330    1203\n",
       "0      docker      1372     875\n",
       "0       azure      1416    1262\n",
       "0      python     16998   13332\n",
       "0       react      6548    5086\n",
       "0  typescript      2130    1630\n",
       "0     angular      1805    1324\n",
       "0          c#      4348    3164\n",
       "0  kubernetes       471     271"
      ]
     },
     "execution_count": 4,
     "metadata": {},
     "output_type": "execute_result"
    }
   ],
   "source": [
    "conn_string = f\"postgresql://{os.getenv('DJ_USER')}:{os.getenv('DJ_PASSWORD')}@{os.getenv('DJ_ENDPOINT')}/{os.getenv('DJ_DATABASENAME')}\"\n",
    "sqlalchemy_connection_dj = sqlalchemy.create_engine(conn_string)\n",
    "\n",
    "share_overview = pd.DataFrame(columns=('technology', 'questions', 'answers'))\n",
    "technologies = sqlalchemy_connection_dj.execute(\"SELECT technology FROM top_technologies;\")\n",
    "for technology in technologies: \n",
    "    tech_tag = technology[0].lower()\n",
    "    q_result = pd.read_sql(f\"SELECT COUNT(*) FROM questions WHERE tags LIKE '%%{tech_tag}%%';\", sqlalchemy_connection_se)\n",
    "    a_result = pd.read_sql(f\"\"\"SELECT COUNT(*) FROM answers a\n",
    "                               INNER JOIN questions q ON a.question_id = q.question_id\n",
    "                               WHERE q.tags LIKE '%%{tech_tag}%%';\"\"\", sqlalchemy_connection_se)\n",
    "    share_overview = share_overview.append(pd.DataFrame({'technology': [tech_tag],\n",
    "                                                         'questions': [q_result.iloc[0, 0]],\n",
    "                                                         'answers': [a_result.iloc[0, 0]]}))\n",
    "share_overview"
   ]
  },
  {
   "cell_type": "code",
   "execution_count": 5,
   "id": "sharing-development",
   "metadata": {},
   "outputs": [
    {
     "data": {
      "text/plain": [
       "<AxesSubplot:xlabel='technology'>"
      ]
     },
     "execution_count": 5,
     "metadata": {},
     "output_type": "execute_result"
    },
    {
     "data": {
      "image/png": "[encoded data removed]",
      "text/plain": [
       "<Figure size 432x288 with 1 Axes>"
      ]
     },
     "metadata": {
      "needs_background": "light"
     },
     "output_type": "display_data"
    }
   ],
   "source": [
    "share_overview.plot.bar(x='technology')"
   ]
  }
 ],
 "metadata": {
  "kernelspec": {
   "display_name": "Python 3",
   "language": "python",
   "name": "python3"
  },
  "language_info": {
   "codemirror_mode": {
    "name": "ipython",
    "version": 3
   },
   "file_extension": ".py",
   "mimetype": "text/x-python",
   "name": "python",
   "nbconvert_exporter": "python",
   "pygments_lexer": "ipython3",
   "version": "3.9.2"
  }
 },
 "nbformat": 4,
 "nbformat_minor": 5
}
